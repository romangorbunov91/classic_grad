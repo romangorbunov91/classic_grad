{
 "cells": [
  {
   "cell_type": "markdown",
   "id": "3e23fb26",
   "metadata": {},
   "source": [
    "# Исследование зависимости от заданной размерности и числа обусловленности квадратичных функций"
   ]
  },
  {
   "cell_type": "code",
   "execution_count": 1,
   "id": "f153fb38",
   "metadata": {},
   "outputs": [],
   "source": [
    "import numpy as np\n",
    "import matplotlib.pyplot as plt\n",
    "from matplotlib.collections import LineCollection"
   ]
  },
  {
   "cell_type": "code",
   "execution_count": 2,
   "id": "65689842",
   "metadata": {},
   "outputs": [
    {
     "data": {
      "text/plain": [
       "[3.26439907478818,\n",
       " 3.8889151442030765,\n",
       " 1.4556276093208287,\n",
       " 3.574733082817447,\n",
       " 4.38616782182048,\n",
       " 1.0703250052005973]"
      ]
     },
     "execution_count": 2,
     "metadata": {},
     "output_type": "execute_result"
    }
   ],
   "source": [
    "cond_number = 5\n",
    "N = 6\n",
    "eigvals_float = [np.random.uniform(1.0, cond_number) for _ in range(N)]\n",
    "eigvals_float"
   ]
  },
  {
   "cell_type": "code",
   "execution_count": 3,
   "id": "3158a21a",
   "metadata": {},
   "outputs": [
    {
     "data": {
      "text/plain": [
       "array([[ 1., -0.,  0., -0.,  0., -0.],\n",
       "       [-0.,  1., -0.,  0., -0., -0.],\n",
       "       [ 0., -0.,  1., -0., -0., -0.],\n",
       "       [-0.,  0., -0.,  1.,  0., -0.],\n",
       "       [ 0., -0., -0.,  0.,  1.,  0.],\n",
       "       [-0., -0., -0., -0.,  0.,  1.]])"
      ]
     },
     "execution_count": 3,
     "metadata": {},
     "output_type": "execute_result"
    }
   ],
   "source": [
    "Q, _ = np.linalg.qr(np.random.randn(N, N))  # QR-разложение даёт ортогональную Q\n",
    "np.round(Q@Q.T,2)\n",
    "np.round(Q.T@Q,2)"
   ]
  },
  {
   "cell_type": "code",
   "execution_count": 4,
   "id": "cc9ca44c",
   "metadata": {},
   "outputs": [
    {
     "data": {
      "text/plain": [
       "array([ 0.17865299, -1.58779784,  0.5752956 , -1.1490773 , -0.82708734,\n",
       "       -1.36321436])"
      ]
     },
     "execution_count": 4,
     "metadata": {},
     "output_type": "execute_result"
    }
   ],
   "source": [
    "np.random.randn(N)"
   ]
  },
  {
   "cell_type": "code",
   "execution_count": 5,
   "id": "b15e17bf",
   "metadata": {},
   "outputs": [],
   "source": [
    "from Functions.user_functions import funtion_generator\n",
    "from Functions.optimization import const_step_grad_descent, armijo_grad_descent, steepest_grad_descent"
   ]
  },
  {
   "cell_type": "code",
   "execution_count": 6,
   "id": "71a60235",
   "metadata": {},
   "outputs": [],
   "source": [
    "A,b,c,func,grad_func = funtion_generator(N=2, cond_number=2.0)"
   ]
  },
  {
   "cell_type": "code",
   "execution_count": 7,
   "id": "04eece4b",
   "metadata": {},
   "outputs": [
    {
     "name": "stdout",
     "output_type": "stream",
     "text": [
      "Собственные числа: [1. 2.]\n",
      "Число обусловленности: 2.00\n"
     ]
    }
   ],
   "source": [
    "# Проверка\n",
    "eigvals = np.linalg.eigvalsh(A)\n",
    "cond_A = eigvals[-1] / eigvals[0]\n",
    "print(f\"Собственные числа: {eigvals}\")\n",
    "print(f\"Число обусловленности: {cond_A:.2f}\")"
   ]
  },
  {
   "cell_type": "code",
   "execution_count": 8,
   "id": "ed29dc5c",
   "metadata": {},
   "outputs": [
    {
     "data": {
      "text/plain": [
       "56.99056977504434"
      ]
     },
     "execution_count": 8,
     "metadata": {},
     "output_type": "execute_result"
    }
   ],
   "source": [
    "func(np.array([0.3,1.4]))"
   ]
  },
  {
   "cell_type": "code",
   "execution_count": 9,
   "id": "6cbe76e7",
   "metadata": {},
   "outputs": [],
   "source": [
    "x_optim, trajectory, iter_counter, _, _ = armijo_grad_descent(\n",
    "                    loss_func=func,\n",
    "                    grad_func=grad_func,\n",
    "                    x_init=np.array([-2.2, 1.1]),\n",
    "                    lr_multiplier=0.5,\n",
    "                    lr_coeff=0.5, \n",
    "                    tolerance=1e-3,\n",
    "                    printoutput=False\n",
    "                    )"
   ]
  },
  {
   "cell_type": "code",
   "execution_count": 10,
   "id": "61ea6484",
   "metadata": {},
   "outputs": [
    {
     "data": {
      "text/plain": [
       "array([ 0.92505704, -0.52731958])"
      ]
     },
     "execution_count": 10,
     "metadata": {},
     "output_type": "execute_result"
    }
   ],
   "source": [
    "x_optim"
   ]
  },
  {
   "cell_type": "code",
   "execution_count": null,
   "id": "e781b908",
   "metadata": {},
   "outputs": [
    {
     "ename": "NameError",
     "evalue": "name 'N_FUNC' is not defined",
     "output_type": "error",
     "traceback": [
      "\u001b[1;31m---------------------------------------------------------------------------\u001b[0m",
      "\u001b[1;31mNameError\u001b[0m                                 Traceback (most recent call last)",
      "Cell \u001b[1;32mIn [11], line 1\u001b[0m\n\u001b[1;32m----> 1\u001b[0m \u001b[38;5;28;01mfor\u001b[39;00m ndx, z, func_lbl \u001b[38;5;129;01min\u001b[39;00m \u001b[38;5;28mzip\u001b[39m(\u001b[38;5;28mrange\u001b[39m(\u001b[43mN_FUNC\u001b[49m), Z, func_labels):\n\u001b[0;32m      2\u001b[0m     \u001b[38;5;28mprint\u001b[39m(func_lbl)\n\u001b[0;32m      3\u001b[0m     fig, axs \u001b[38;5;241m=\u001b[39m plt\u001b[38;5;241m.\u001b[39msubplots(ncols\u001b[38;5;241m=\u001b[39mN_METHOD, nrows\u001b[38;5;241m=\u001b[39m\u001b[38;5;241m1\u001b[39m, figsize\u001b[38;5;241m=\u001b[39m(\u001b[38;5;241m6\u001b[39m\u001b[38;5;241m*\u001b[39mN_METHOD, \u001b[38;5;241m6\u001b[39m))\n",
      "\u001b[1;31mNameError\u001b[0m: name 'N_FUNC' is not defined"
     ]
    }
   ],
   "source": [
    "N_METHOD=1\n",
    "    fig, axs = plt.subplots(ncols=N_METHOD, nrows=1, figsize=(6*N_METHOD, 6))\n",
    "    for mdx, ax in enumerate(axs):\n",
    "        contour = ax.contour(X, Y, z, levels=25, colors='black', alpha=0.5)\n",
    "        ax.contour(X, Y, z, levels=25, cmap='viridis')\n",
    "        ax.set_xlabel('$x_1$', fontsize=user_fontsize)\n",
    "        ax.set_ylabel('$x_2$', fontsize=user_fontsize)\n",
    "        ax.set_title(method_names[mdx].__name__ + ': ' + str(iter_counter_arr[ndx,mdx]) + ' iterations', fontsize=user_fontsize)\n",
    "        \n",
    "        # Подготовка сегментов для LineCollection\n",
    "        points = np.array([trajectory_arr[ndx,mdx][:, 0], trajectory_arr[ndx,mdx][:, 1]]).T.reshape(-1, 1, 2)\n",
    "        segments = np.concatenate([points[:-1], points[1:]], axis=1)\n",
    "\n",
    "        # Создание LineCollection с цветами, зависящими от индекса (шага)\n",
    "        lc = LineCollection(segments, cmap='RdYlBu_r', linewidth=1.0)\n",
    "        lc.set_array(np.linspace(0, 1, len(segments)))  # цвет от 0 (начало) до 1 (конец)\n",
    "        line = ax.add_collection(lc)\n",
    "        \n",
    "        # Отмечаем точки\n",
    "        ax.plot(x_init[0], x_init[1], 'bo', markersize=8, label='Start')\n",
    "        ax.plot(x_optim_arr[ndx,mdx][0], x_optim_arr[ndx,mdx][1], 'ro', markersize=10, label='End')\n",
    "            \n",
    "        ax.tick_params(axis='x', labelsize=user_tickfontsize)\n",
    "        ax.tick_params(axis='y', labelsize=user_tickfontsize)\n",
    "        \n",
    "        ax.legend()\n",
    "        ax.grid(True, alpha=0.3)\n",
    "\n",
    "    #fig.colorbar(line, ax=axs[ndx], label='Progress from 0 to 1')\n",
    "    plt.tight_layout()\n",
    "    plt.savefig('readme_img/func_img/trajectory_plots_' + func_lbl + '.png', bbox_inches='tight')\n",
    "    plt.show()"
   ]
  }
 ],
 "metadata": {
  "kernelspec": {
   "display_name": "Python 3",
   "language": "python",
   "name": "python3"
  },
  "language_info": {
   "codemirror_mode": {
    "name": "ipython",
    "version": 3
   },
   "file_extension": ".py",
   "mimetype": "text/x-python",
   "name": "python",
   "nbconvert_exporter": "python",
   "pygments_lexer": "ipython3",
   "version": "3.11.0"
  }
 },
 "nbformat": 4,
 "nbformat_minor": 5
}
