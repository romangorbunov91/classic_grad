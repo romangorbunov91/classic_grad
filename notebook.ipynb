{
 "cells": [
  {
   "cell_type": "markdown",
   "id": "b615a7d5",
   "metadata": {},
   "source": [
    "# Классический градиентный спуск"
   ]
  },
  {
   "cell_type": "code",
   "execution_count": null,
   "id": "0c214396",
   "metadata": {},
   "outputs": [],
   "source": [
    "import numpy as np\n",
    "import pandas as pd\n",
    "import matplotlib.pyplot as plt\n",
    "import re"
   ]
  },
  {
   "cell_type": "markdown",
   "id": "7c35e339",
   "metadata": {},
   "source": [
    "## Метод градиентного спуска с постоянным шагом"
   ]
  },
  {
   "cell_type": "code",
   "execution_count": null,
   "id": "7da04f9e",
   "metadata": {},
   "outputs": [],
   "source": [
    "def f_good(x,y):\n",
    "    return 2 * x**2 + 1.5 * y**2 + 0.4 * x*y\n",
    "\n",
    "def f_bad(x,y):\n",
    "    return 0.4 * x**2 + 2*np.sin(x) + 0.2*np.cos(2*x+2)\n",
    "\n",
    "def f_rozen(x,y):\n",
    "    return (1-x)**2 + 100 * (y-x**2)**2\n",
    "\n",
    "x_min = -10.0\n",
    "x_max = 10.0\n",
    "y_min = -10.0\n",
    "y_max = 10.0\n",
    "N = 10000\n",
    "\n",
    "\n",
    "\n",
    "x = np.linspace(x_min, x_max, N)\n",
    "\n",
    "G_plot = np.empty((3,), dtype='object')\n",
    "\n",
    "G_plot[0] = f_unimod(x)\n",
    "G_plot[1] = f_nonsym(x)\n",
    "G_plot[2] = f_mulmod(x)\n",
    "\n",
    "labels = ['унимодальная', 'несимметричная', 'многомодальная']\n",
    "\n",
    "user_figsize = (12, 6)\n",
    "user_fontsize = 16\n",
    "\n",
    "plt.figure(figsize=user_figsize)\n",
    "for lbl, G in zip(labels, G_plot):\n",
    "    plt.plot(x, G, label=lbl)\n",
    "plt.legend()\n",
    "plt.title('Графики минимизируемых функций')\n",
    "plt.xlabel('x', fontsize=user_fontsize)\n",
    "plt.ylabel('f(x)', fontsize=user_fontsize)\n",
    "plt.grid(True)\n",
    "plt.show()"
   ]
  }
 ],
 "metadata": {
  "language_info": {
   "name": "python"
  }
 },
 "nbformat": 4,
 "nbformat_minor": 5
}
