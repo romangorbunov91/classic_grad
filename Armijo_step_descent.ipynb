{
 "cells": [
  {
   "cell_type": "markdown",
   "id": "7c35e339",
   "metadata": {},
   "source": [
    "## Градиентный спуск с дроблением шага по условию Армихо"
   ]
  },
  {
   "cell_type": "code",
   "execution_count": 1,
   "id": "0c214396",
   "metadata": {},
   "outputs": [],
   "source": [
    "import numpy as np\n",
    "import pandas as pd\n",
    "import matplotlib.pyplot as plt"
   ]
  },
  {
   "cell_type": "code",
   "execution_count": 2,
   "id": "4a199675",
   "metadata": {},
   "outputs": [],
   "source": [
    "from Functions.functions_under_study import f_well, f_poor, f_rozen, grad_well, grad_poor, grad_rozen\n",
    "from Functions.optimization import armijo_grad_descent"
   ]
  },
  {
   "cell_type": "code",
   "execution_count": 3,
   "id": "d85656e9",
   "metadata": {},
   "outputs": [],
   "source": [
    "func_names = [f_well, f_poor, f_rozen]\n",
    "grad_names = [grad_well, grad_poor, grad_rozen]\n",
    "func_labels = ['Well-conditioned',\n",
    "               'Poorly-conditioned',\n",
    "               'Rosenbrock']\n",
    "\n",
    "N_FUNC = len(func_names)"
   ]
  },
  {
   "cell_type": "code",
   "execution_count": 4,
   "id": "0cb7c0ca",
   "metadata": {},
   "outputs": [
    {
     "name": "stdout",
     "output_type": "stream",
     "text": [
      "[1.e-01 1.e-02 1.e-03 1.e-04 1.e-05]\n"
     ]
    }
   ],
   "source": [
    "N_EPS = 5\n",
    "EPS_INIT = -1\n",
    "eps_var = np.logspace(EPS_INIT, EPS_INIT-N_EPS+1, N_EPS)\n",
    "print(eps_var)"
   ]
  },
  {
   "cell_type": "code",
   "execution_count": 5,
   "id": "7678a670",
   "metadata": {},
   "outputs": [
    {
     "ename": "KeyboardInterrupt",
     "evalue": "",
     "output_type": "error",
     "traceback": [
      "\u001b[1;31m---------------------------------------------------------------------------\u001b[0m",
      "\u001b[1;31mKeyboardInterrupt\u001b[0m                         Traceback (most recent call last)",
      "Cell \u001b[1;32mIn [5], line 20\u001b[0m\n\u001b[0;32m     17\u001b[0m grad_counter_list \u001b[38;5;241m=\u001b[39m []\n\u001b[0;32m     19\u001b[0m \u001b[38;5;28;01mfor\u001b[39;00m idx, eps \u001b[38;5;129;01min\u001b[39;00m \u001b[38;5;28menumerate\u001b[39m(eps_var):\n\u001b[1;32m---> 20\u001b[0m     x_optim, _, iter_final, func_counter, grad_counter \u001b[38;5;241m=\u001b[39m \u001b[43marmijo_grad_descent\u001b[49m\u001b[43m(\u001b[49m\n\u001b[0;32m     21\u001b[0m \u001b[43m                                                                                \u001b[49m\u001b[43mloss_func\u001b[49m\u001b[38;5;241;43m=\u001b[39;49m\u001b[43mfunc\u001b[49m\u001b[43m,\u001b[49m\n\u001b[0;32m     22\u001b[0m \u001b[43m                                                                                \u001b[49m\u001b[43mgrad_func\u001b[49m\u001b[38;5;241;43m=\u001b[39;49m\u001b[43mgrad\u001b[49m\u001b[43m,\u001b[49m\n\u001b[0;32m     23\u001b[0m \u001b[43m                                                                                \u001b[49m\u001b[43mx_init\u001b[49m\u001b[38;5;241;43m=\u001b[39;49m\u001b[43mx_init\u001b[49m\u001b[43m,\u001b[49m\n\u001b[0;32m     24\u001b[0m \u001b[43m                                                                                \u001b[49m\u001b[43mlearning_rate_init\u001b[49m\u001b[38;5;241;43m=\u001b[39;49m\u001b[43mlearning_rate_init\u001b[49m\u001b[43m,\u001b[49m\n\u001b[0;32m     25\u001b[0m \u001b[43m                                                                                \u001b[49m\u001b[43mlr_multiplier\u001b[49m\u001b[38;5;241;43m=\u001b[39;49m\u001b[38;5;241;43m0.8\u001b[39;49m\u001b[43m,\u001b[49m\n\u001b[0;32m     26\u001b[0m \u001b[43m                                                                                \u001b[49m\u001b[43mtolerance\u001b[49m\u001b[38;5;241;43m=\u001b[39;49m\u001b[43meps\u001b[49m\u001b[43m,\u001b[49m\n\u001b[0;32m     27\u001b[0m \u001b[43m                                                                                \u001b[49m\u001b[43mprintoutput\u001b[49m\u001b[38;5;241;43m=\u001b[39;49m\u001b[38;5;28;43;01mFalse\u001b[39;49;00m\n\u001b[0;32m     28\u001b[0m \u001b[43m                                                                                \u001b[49m\u001b[43m)\u001b[49m\n\u001b[0;32m     29\u001b[0m     x0_optim_list\u001b[38;5;241m.\u001b[39mappend(x_optim[\u001b[38;5;241m0\u001b[39m])\n\u001b[0;32m     30\u001b[0m     x1_optim_list\u001b[38;5;241m.\u001b[39mappend(x_optim[\u001b[38;5;241m1\u001b[39m])\n",
      "File \u001b[1;32md:\\git\\ITMO\\Optimization\\classic_grad\\Functions\\optimization.py:68\u001b[0m, in \u001b[0;36marmijo_grad_descent\u001b[1;34m(loss_func, grad_func, x_init, learning_rate_init, lr_multiplier, tolerance, printoutput)\u001b[0m\n\u001b[0;32m     65\u001b[0m grad \u001b[38;5;241m=\u001b[39m grad_func(x)\n\u001b[0;32m     66\u001b[0m grad_counter \u001b[38;5;241m+\u001b[39m\u001b[38;5;241m=\u001b[39m \u001b[38;5;241m1\u001b[39m\n\u001b[1;32m---> 68\u001b[0m x_prev \u001b[38;5;241m=\u001b[39m x\u001b[38;5;241m.\u001b[39mcopy()\n\u001b[0;32m     69\u001b[0m x \u001b[38;5;241m-\u001b[39m\u001b[38;5;241m=\u001b[39m learning_rate \u001b[38;5;241m*\u001b[39m grad\n\u001b[0;32m     71\u001b[0m loss \u001b[38;5;241m=\u001b[39m loss_func(x)\n",
      "\u001b[1;31mKeyboardInterrupt\u001b[0m: "
     ]
    }
   ],
   "source": [
    "x0_optim_arr     = np.empty((N_FUNC,), dtype='object')\n",
    "x1_optim_arr     = np.empty((N_FUNC,), dtype='object')\n",
    "iter_counter_arr = np.empty((N_FUNC,), dtype='object')\n",
    "func_counter_arr = np.empty((N_FUNC,), dtype='object')\n",
    "grad_counter_arr = np.empty((N_FUNC,), dtype='object')\n",
    "\n",
    "# Начальное приближение.\n",
    "x_init = np.array([2.2, -2.2])\n",
    "learning_rate_init = np.array([1e-4, 1e-4])\n",
    "\n",
    "for ndx, func, grad in zip(range(N_FUNC), func_names, grad_names):\n",
    "    \n",
    "        x0_optim_list     = []\n",
    "        x1_optim_list     = []\n",
    "        iter_counter_list = []\n",
    "        func_counter_list = []\n",
    "        grad_counter_list = []\n",
    "    \n",
    "        for idx, eps in enumerate(eps_var):\n",
    "            x_optim, _, iter_final, func_counter, grad_counter = armijo_grad_descent(\n",
    "                                                                                        loss_func=func,\n",
    "                                                                                        grad_func=grad,\n",
    "                                                                                        x_init=x_init,\n",
    "                                                                                        learning_rate_init=learning_rate_init,\n",
    "                                                                                        lr_multiplier=0.8,\n",
    "                                                                                        tolerance=eps,\n",
    "                                                                                        printoutput=False\n",
    "                                                                                        )\n",
    "            x0_optim_list.append(x_optim[0])\n",
    "            x1_optim_list.append(x_optim[1])\n",
    "            iter_counter_list.append(iter_final)\n",
    "            func_counter_list.append(func_counter)\n",
    "            grad_counter_list.append(grad_counter)\n",
    "                       \n",
    "        x0_optim_arr[ndx] = x0_optim_list\n",
    "        x1_optim_arr[ndx,] = x1_optim_list\n",
    "        iter_counter_arr[ndx] = iter_counter_list\n",
    "        func_counter_arr[ndx] = func_counter_list\n",
    "        grad_counter_arr[ndx] = grad_counter_list"
   ]
  },
  {
   "cell_type": "code",
   "execution_count": null,
   "id": "4f3f07b6",
   "metadata": {},
   "outputs": [
    {
     "data": {
      "text/plain": [
       "[2.1986802737757185,\n",
       " 2.1986802737757185,\n",
       " 2.1986802737757185,\n",
       " 2.1986802737757185,\n",
       " 2.1986802737757185]"
      ]
     },
     "execution_count": 6,
     "metadata": {},
     "output_type": "execute_result"
    }
   ],
   "source": [
    "x0_optim_arr[0]"
   ]
  },
  {
   "cell_type": "markdown",
   "id": "175e8490",
   "metadata": {},
   "source": [
    "Преобразуем в таблицы."
   ]
  },
  {
   "cell_type": "code",
   "execution_count": null,
   "id": "7a17ca59",
   "metadata": {},
   "outputs": [
    {
     "ename": "NameError",
     "evalue": "name 'N_LR' is not defined",
     "output_type": "error",
     "traceback": [
      "\u001b[1;31m---------------------------------------------------------------------------\u001b[0m",
      "\u001b[1;31mNameError\u001b[0m                                 Traceback (most recent call last)",
      "Cell \u001b[1;32mIn [7], line 8\u001b[0m\n\u001b[0;32m      6\u001b[0m col_name \u001b[38;5;241m=\u001b[39m []\n\u001b[0;32m      7\u001b[0m col_name_x_optim \u001b[38;5;241m=\u001b[39m []\n\u001b[1;32m----> 8\u001b[0m \u001b[38;5;28;01mfor\u001b[39;00m mdx \u001b[38;5;129;01min\u001b[39;00m \u001b[38;5;28mrange\u001b[39m(\u001b[43mN_LR\u001b[49m):\n\u001b[0;32m      9\u001b[0m     col_name\u001b[38;5;241m.\u001b[39mappend(\u001b[38;5;124m'\u001b[39m\u001b[38;5;124mx1: lr=\u001b[39m\u001b[38;5;124m'\u001b[39m \u001b[38;5;241m+\u001b[39m \u001b[38;5;28mstr\u001b[39m(lr_classic_grad_descent[ndx,mdx][\u001b[38;5;241m0\u001b[39m]) \u001b[38;5;241m+\u001b[39m \u001b[38;5;124m'\u001b[39m\u001b[38;5;124m, x2: lr=\u001b[39m\u001b[38;5;124m'\u001b[39m \u001b[38;5;241m+\u001b[39m \u001b[38;5;28mstr\u001b[39m(lr_classic_grad_descent[ndx,mdx][\u001b[38;5;241m1\u001b[39m]))\n\u001b[0;32m     10\u001b[0m     col_name_x_optim\u001b[38;5;241m.\u001b[39mappend(\u001b[38;5;124m'\u001b[39m\u001b[38;5;124mx1 (lr=\u001b[39m\u001b[38;5;124m'\u001b[39m \u001b[38;5;241m+\u001b[39m \u001b[38;5;28mstr\u001b[39m(lr_classic_grad_descent[ndx,mdx][\u001b[38;5;241m0\u001b[39m]) \u001b[38;5;241m+\u001b[39m \u001b[38;5;124m'\u001b[39m\u001b[38;5;124m)\u001b[39m\u001b[38;5;124m'\u001b[39m)\n",
      "\u001b[1;31mNameError\u001b[0m: name 'N_LR' is not defined"
     ]
    }
   ],
   "source": [
    "col_name_arr = np.empty((N_FUNC,), dtype='object')\n",
    "# Special column names for x_optim.\n",
    "col_name_x_optim_arr = np.empty((N_FUNC,), dtype='object')\n",
    "\n",
    "for ndx in range(N_FUNC):\n",
    "    col_name = []\n",
    "    col_name_x_optim = []\n",
    "    for mdx in range(N_LR):\n",
    "        col_name.append('x1: lr=' + str(lr_classic_grad_descent[ndx,mdx][0]) + ', x2: lr=' + str(lr_classic_grad_descent[ndx,mdx][1]))\n",
    "        col_name_x_optim.append('x1 (lr=' + str(lr_classic_grad_descent[ndx,mdx][0]) + ')')\n",
    "        col_name_x_optim.append('x2 (lr=' + str(lr_classic_grad_descent[ndx,mdx][1]) + ')')\n",
    "    col_name_arr[ndx] = col_name.copy()\n",
    "    col_name_x_optim_arr[ndx] = col_name_x_optim.copy()\n",
    "    \n",
    "x_optim_tbl_set      = np.empty((N_FUNC,), dtype=object)\n",
    "iter_counter_tbl_set = np.empty((N_FUNC,), dtype=object)\n",
    "func_counter_tbl_set = np.empty((N_FUNC,), dtype=object)\n",
    "grad_counter_tbl_set = np.empty((N_FUNC,), dtype=object)\n",
    "\n",
    "for ndx in range(N_FUNC):\n",
    "    x_optim_tbl      = eps_var.copy()\n",
    "    iter_counter_tbl = eps_var.copy()\n",
    "    func_counter_tbl = eps_var.copy()\n",
    "    grad_counter_tbl = eps_var.copy()\n",
    "    \n",
    "    for idx, colx1, colx2, col_iter, col_func, col_grad in zip(\n",
    "                                                                range(N_LR),\n",
    "                                                                x0_optim_arr[ndx, :],\n",
    "                                                                x1_optim_arr[ndx, :],\n",
    "                                                                iter_counter_arr[ndx, :],\n",
    "                                                                func_counter_arr[ndx, :],\n",
    "                                                                grad_counter_arr[ndx, :]\n",
    "                                                                ):\n",
    "        x_optim_tbl      = np.vstack((x_optim_tbl, colx1, colx2))\n",
    "        iter_counter_tbl = np.vstack((iter_counter_tbl, col_iter))\n",
    "        func_counter_tbl = np.vstack((func_counter_tbl, col_func))\n",
    "        grad_counter_tbl = np.vstack((grad_counter_tbl, col_grad))\n",
    "    \n",
    "    x_optim_tbl_set[ndx] = pd.DataFrame(x_optim_tbl.T, columns=['eps'] + col_name_x_optim_arr[ndx])\n",
    "\n",
    "    iter_counter_tbl_set[ndx] = pd.DataFrame(iter_counter_tbl.T, columns=['eps'] + col_name_arr[ndx])\n",
    "    iter_counter_tbl_set[ndx][col_name_arr[ndx]] = iter_counter_tbl_set[ndx][col_name_arr[ndx]].astype(int)\n",
    "\n",
    "    func_counter_tbl_set[ndx] = pd.DataFrame(func_counter_tbl.T, columns=['eps'] + col_name_arr[ndx])\n",
    "    func_counter_tbl_set[ndx][col_name_arr[ndx]] = func_counter_tbl_set[ndx][col_name_arr[ndx]].astype(int)\n",
    "    \n",
    "    grad_counter_tbl_set[ndx] = pd.DataFrame(grad_counter_tbl.T, columns=['eps'] + col_name_arr[ndx])\n",
    "    grad_counter_tbl_set[ndx][col_name_arr[ndx]] = grad_counter_tbl_set[ndx][col_name_arr[ndx]].astype(int)"
   ]
  }
 ],
 "metadata": {
  "kernelspec": {
   "display_name": "Python 3",
   "language": "python",
   "name": "python3"
  },
  "language_info": {
   "codemirror_mode": {
    "name": "ipython",
    "version": 3
   },
   "file_extension": ".py",
   "mimetype": "text/x-python",
   "name": "python",
   "nbconvert_exporter": "python",
   "pygments_lexer": "ipython3",
   "version": "3.11.0"
  }
 },
 "nbformat": 4,
 "nbformat_minor": 5
}
