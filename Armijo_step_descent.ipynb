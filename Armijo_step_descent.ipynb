{
 "cells": [
  {
   "cell_type": "markdown",
   "id": "7c35e339",
   "metadata": {},
   "source": [
    "## Градиентный спуск с дроблением шага по условию Армихо"
   ]
  },
  {
   "cell_type": "code",
   "execution_count": 1,
   "id": "0c214396",
   "metadata": {},
   "outputs": [],
   "source": [
    "import numpy as np\n",
    "import pandas as pd\n",
    "import matplotlib.pyplot as plt"
   ]
  },
  {
   "cell_type": "code",
   "execution_count": 2,
   "id": "4a199675",
   "metadata": {},
   "outputs": [],
   "source": [
    "from Functions.functions_under_study import f_well, f_poor, f_rozen, grad_well, grad_poor, grad_rozen\n",
    "from Functions.optimization import classic_grad_descent"
   ]
  },
  {
   "cell_type": "code",
   "execution_count": 3,
   "id": "d85656e9",
   "metadata": {},
   "outputs": [],
   "source": [
    "func_names = [f_well, f_poor, f_rozen]\n",
    "grad_names = [grad_well, grad_poor, grad_rozen]\n",
    "func_labels = ['Well-conditioned',\n",
    "               'Poorly-conditioned',\n",
    "               'Rosenbrock']\n",
    "\n",
    "N_FUNC = len(func_names)"
   ]
  }
 ],
 "metadata": {
  "kernelspec": {
   "display_name": "Python 3",
   "language": "python",
   "name": "python3"
  },
  "language_info": {
   "codemirror_mode": {
    "name": "ipython",
    "version": 3
   },
   "file_extension": ".py",
   "mimetype": "text/x-python",
   "name": "python",
   "nbconvert_exporter": "python",
   "pygments_lexer": "ipython3",
   "version": "3.11.0"
  }
 },
 "nbformat": 4,
 "nbformat_minor": 5
}
