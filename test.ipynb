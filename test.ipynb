{
 "cells": [
  {
   "cell_type": "code",
   "execution_count": 1,
   "id": "13c96979",
   "metadata": {},
   "outputs": [],
   "source": [
    "import numpy as np\n",
    "import pandas as pd\n",
    "import matplotlib.pyplot as plt"
   ]
  },
  {
   "cell_type": "code",
   "execution_count": 2,
   "id": "65e83b1a",
   "metadata": {},
   "outputs": [
    {
     "name": "stdout",
     "output_type": "stream",
     "text": [
      "[1.7 7.2]\n",
      "7.397972695272672\n",
      "7.397972695272672\n"
     ]
    }
   ],
   "source": [
    "x = np.array([2, 8], dtype=float)\n",
    "alpha = np.array([0.1, 0.2])\n",
    "grad = np.array([3, 4], dtype=float)\n",
    "x -= alpha * grad\n",
    "\n",
    "print(x)\n",
    "print(np.linalg.norm(x, ord=None, axis=None))\n",
    "print(np.sqrt(x[0]**2 + x[1]**2))"
   ]
  },
  {
   "cell_type": "code",
   "execution_count": 3,
   "id": "ac121987",
   "metadata": {},
   "outputs": [],
   "source": [
    "from Functions.optimization import classic_grad_descent"
   ]
  },
  {
   "cell_type": "code",
   "execution_count": 5,
   "id": "0ca0610a",
   "metadata": {},
   "outputs": [
    {
     "name": "stdout",
     "output_type": "stream",
     "text": [
      "Iteration: 2200\n",
      "x-values: [-0.9997  0.    ]\n",
      "x-norm: 0.0\n",
      "Gradient: [0.0012 0.    ]\n",
      "Loss: 0.0\n",
      "Iteration: 2255\n",
      "x-values: [-0.9998  0.    ]\n",
      "x-norm: 0.0\n",
      "Gradient: [0.001 0.   ]\n",
      "Loss: 0.0\n",
      "[-9.99751523e-01  1.52357713e-06]\n",
      "1.234889348202687e-07\n"
     ]
    }
   ],
   "source": [
    "def loss_func(x):\n",
    "    return 2 * (x[0]+1)**2 + 3 * x[1]**2\n",
    "def grad_func(x):\n",
    "    return np.array([4*x[0] + 4, 6*x[1]])\n",
    "x_optim, losses, iter_final, func_counter, grad_counter = classic_grad_descent(loss_func=loss_func,\n",
    "                                                                               grad_func=grad_func,\n",
    "                                                                               x=np.array([1.1, 1.2]),\n",
    "                                                                               learning_rate=np.array([1e-3, 1e-3]),\n",
    "                                                                               tolerance=1e-6)\n",
    "print(x_optim)\n",
    "print(loss_func(x_optim))"
   ]
  }
 ],
 "metadata": {
  "kernelspec": {
   "display_name": "Python 3",
   "language": "python",
   "name": "python3"
  },
  "language_info": {
   "codemirror_mode": {
    "name": "ipython",
    "version": 3
   },
   "file_extension": ".py",
   "mimetype": "text/x-python",
   "name": "python",
   "nbconvert_exporter": "python",
   "pygments_lexer": "ipython3",
   "version": "3.11.0"
  }
 },
 "nbformat": 4,
 "nbformat_minor": 5
}
