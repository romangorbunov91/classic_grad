{
 "cells": [
  {
   "cell_type": "code",
   "execution_count": 1,
   "id": "13c96979",
   "metadata": {},
   "outputs": [],
   "source": [
    "import numpy as np\n",
    "import pandas as pd\n",
    "import matplotlib.pyplot as plt"
   ]
  },
  {
   "cell_type": "code",
   "execution_count": 2,
   "id": "65e83b1a",
   "metadata": {},
   "outputs": [
    {
     "name": "stdout",
     "output_type": "stream",
     "text": [
      "[1.7 7.2]\n",
      "7.397972695272672\n",
      "7.397972695272672\n"
     ]
    }
   ],
   "source": [
    "x = np.array([2, 8], dtype=float)\n",
    "alpha = np.array([0.1, 0.2])\n",
    "grad = np.array([3, 4], dtype=float)\n",
    "x -= alpha * grad\n",
    "\n",
    "print(x)\n",
    "print(np.linalg.norm(x, ord=None, axis=None))\n",
    "print(np.sqrt(x[0]**2 + x[1]**2))"
   ]
  },
  {
   "cell_type": "code",
   "execution_count": 3,
   "id": "ac121987",
   "metadata": {},
   "outputs": [],
   "source": [
    "from Functions.optimization import classic_grad_descent"
   ]
  },
  {
   "cell_type": "code",
   "execution_count": 4,
   "id": "0ca0610a",
   "metadata": {},
   "outputs": [
    {
     "ename": "TypeError",
     "evalue": "classic_grad_descent() got an unexpected keyword argument 'x'",
     "output_type": "error",
     "traceback": [
      "\u001b[1;31m---------------------------------------------------------------------------\u001b[0m",
      "\u001b[1;31mTypeError\u001b[0m                                 Traceback (most recent call last)",
      "Cell \u001b[1;32mIn [4], line 5\u001b[0m\n\u001b[0;32m      3\u001b[0m \u001b[38;5;28;01mdef\u001b[39;00m \u001b[38;5;21mgrad_func\u001b[39m(x):\n\u001b[0;32m      4\u001b[0m     \u001b[38;5;28;01mreturn\u001b[39;00m np\u001b[38;5;241m.\u001b[39marray([\u001b[38;5;241m4\u001b[39m\u001b[38;5;241m*\u001b[39mx[\u001b[38;5;241m0\u001b[39m] \u001b[38;5;241m+\u001b[39m \u001b[38;5;241m4\u001b[39m, \u001b[38;5;241m6\u001b[39m\u001b[38;5;241m*\u001b[39mx[\u001b[38;5;241m1\u001b[39m]])\n\u001b[1;32m----> 5\u001b[0m x_optim, losses, iter_final, func_counter, grad_counter \u001b[38;5;241m=\u001b[39m \u001b[43mclassic_grad_descent\u001b[49m\u001b[43m(\u001b[49m\u001b[43mloss_func\u001b[49m\u001b[38;5;241;43m=\u001b[39;49m\u001b[43mloss_func\u001b[49m\u001b[43m,\u001b[49m\n\u001b[0;32m      6\u001b[0m \u001b[43m                                                                               \u001b[49m\u001b[43mgrad_func\u001b[49m\u001b[38;5;241;43m=\u001b[39;49m\u001b[43mgrad_func\u001b[49m\u001b[43m,\u001b[49m\n\u001b[0;32m      7\u001b[0m \u001b[43m                                                                               \u001b[49m\u001b[43mx\u001b[49m\u001b[38;5;241;43m=\u001b[39;49m\u001b[43mnp\u001b[49m\u001b[38;5;241;43m.\u001b[39;49m\u001b[43marray\u001b[49m\u001b[43m(\u001b[49m\u001b[43m[\u001b[49m\u001b[38;5;241;43m1.1\u001b[39;49m\u001b[43m,\u001b[49m\u001b[43m \u001b[49m\u001b[38;5;241;43m1.2\u001b[39;49m\u001b[43m]\u001b[49m\u001b[43m)\u001b[49m\u001b[43m,\u001b[49m\n\u001b[0;32m      8\u001b[0m \u001b[43m                                                                               \u001b[49m\u001b[43mlearning_rate\u001b[49m\u001b[38;5;241;43m=\u001b[39;49m\u001b[43mnp\u001b[49m\u001b[38;5;241;43m.\u001b[39;49m\u001b[43marray\u001b[49m\u001b[43m(\u001b[49m\u001b[43m[\u001b[49m\u001b[38;5;241;43m1e-3\u001b[39;49m\u001b[43m,\u001b[49m\u001b[43m \u001b[49m\u001b[38;5;241;43m1e-3\u001b[39;49m\u001b[43m]\u001b[49m\u001b[43m)\u001b[49m\u001b[43m,\u001b[49m\n\u001b[0;32m      9\u001b[0m \u001b[43m                                                                               \u001b[49m\u001b[43mtolerance\u001b[49m\u001b[38;5;241;43m=\u001b[39;49m\u001b[38;5;241;43m1e-6\u001b[39;49m\u001b[43m)\u001b[49m\n\u001b[0;32m     10\u001b[0m \u001b[38;5;28mprint\u001b[39m(x_optim)\n\u001b[0;32m     11\u001b[0m \u001b[38;5;28mprint\u001b[39m(loss_func(x_optim))\n",
      "\u001b[1;31mTypeError\u001b[0m: classic_grad_descent() got an unexpected keyword argument 'x'"
     ]
    }
   ],
   "source": [
    "def loss_func(x):\n",
    "    return 2 * (x[0]+1)**2 + 3 * x[1]**2\n",
    "def grad_func(x):\n",
    "    return np.array([4*x[0] + 4, 6*x[1]])\n",
    "x_optim, losses, iter_final, func_counter, grad_counter = classic_grad_descent(loss_func=loss_func,\n",
    "                                                                               grad_func=grad_func,\n",
    "                                                                               x=np.array([1.1, 1.2]),\n",
    "                                                                               learning_rate=np.array([1e-3, 1e-3]),\n",
    "                                                                               tolerance=1e-6)\n",
    "print(x_optim)\n",
    "print(loss_func(x_optim))"
   ]
  }
 ],
 "metadata": {
  "kernelspec": {
   "display_name": "Python 3",
   "language": "python",
   "name": "python3"
  },
  "language_info": {
   "codemirror_mode": {
    "name": "ipython",
    "version": 3
   },
   "file_extension": ".py",
   "mimetype": "text/x-python",
   "name": "python",
   "nbconvert_exporter": "python",
   "pygments_lexer": "ipython3",
   "version": "3.11.0"
  }
 },
 "nbformat": 4,
 "nbformat_minor": 5
}
