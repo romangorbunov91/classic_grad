{
 "cells": [
  {
   "cell_type": "code",
   "execution_count": null,
   "id": "13c96979",
   "metadata": {},
   "outputs": [],
   "source": [
    "import numpy as np"
   ]
  },
  {
   "cell_type": "code",
   "execution_count": 3,
   "id": "65e83b1a",
   "metadata": {},
   "outputs": [
    {
     "name": "stdout",
     "output_type": "stream",
     "text": [
      "[1.7 7.6]\n",
      "7.787810988975014\n",
      "7.787810988975015\n"
     ]
    }
   ],
   "source": [
    "x = np.array([2, 8], dtype=float)\n",
    "#alpha = np.array([0.1, 0.2])\n",
    "alpha = 0.1\n",
    "grad = np.array([3, 4], dtype=float)\n",
    "x -= alpha * grad\n",
    "\n",
    "print(x)\n",
    "print(np.linalg.norm(x, ord=None, axis=None))\n",
    "print(np.sqrt(x[0]**2 + x[1]**2))"
   ]
  },
  {
   "cell_type": "code",
   "execution_count": 7,
   "id": "ac121987",
   "metadata": {},
   "outputs": [],
   "source": [
    "from Functions.functions_under_study import f_well, f_poor, f_rozen, grad_well, grad_poor, grad_rozen\n",
    "from Functions.optimization import classic_grad_descent, steepest_grad_descent"
   ]
  },
  {
   "cell_type": "code",
   "execution_count": null,
   "id": "0ca0610a",
   "metadata": {},
   "outputs": [
    {
     "name": "stdout",
     "output_type": "stream",
     "text": [
      "[0.99900976 0.9980155 ]\n",
      "10.980184826248443\n"
     ]
    }
   ],
   "source": [
    "def loss_func(x):\n",
    "    return 2 * (x[0]+1)**2 + 3 * x[1]**2\n",
    "def grad_func(x):\n",
    "    return np.array([4*x[0] + 4, 6*x[1]])"
   ]
  },
  {
   "cell_type": "code",
   "execution_count": null,
   "id": "3b9898d3",
   "metadata": {},
   "outputs": [],
   "source": [
    "x_optim, trajectory, iter_counter, _, _ = steepest_grad_descent(\n",
    "    loss_func=f_rozen,\n",
    "    grad_func=grad_rozen,\n",
    "    x_init=np.array([-2.2, -2.2]),\n",
    "    tolerance=1e-3,\n",
    "    printoutput=False\n",
    "    )\n",
    "\n",
    "print(x_optim)\n",
    "print(loss_func(x_optim))"
   ]
  }
 ],
 "metadata": {
  "kernelspec": {
   "display_name": "Python 3",
   "language": "python",
   "name": "python3"
  },
  "language_info": {
   "codemirror_mode": {
    "name": "ipython",
    "version": 3
   },
   "file_extension": ".py",
   "mimetype": "text/x-python",
   "name": "python",
   "nbconvert_exporter": "python",
   "pygments_lexer": "ipython3",
   "version": "3.11.0"
  }
 },
 "nbformat": 4,
 "nbformat_minor": 5
}
